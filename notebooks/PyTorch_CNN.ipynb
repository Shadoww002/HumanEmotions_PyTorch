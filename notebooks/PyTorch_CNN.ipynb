{
  "nbformat": 4,
  "nbformat_minor": 0,
  "metadata": {
    "colab": {
      "provenance": [],
      "gpuType": "T4"
    },
    "kernelspec": {
      "name": "python3",
      "display_name": "Python 3"
    },
    "language_info": {
      "name": "python"
    },
    "accelerator": "GPU"
  },
  "cells": [
    {
      "cell_type": "code",
      "source": [
        "import kagglehub\n",
        "\n",
        "# Download latest version\n",
        "path = kagglehub.dataset_download(\"msambare/fer2013\")\n",
        "\n",
        "print(\"Path to dataset files:\", path)"
      ],
      "metadata": {
        "colab": {
          "base_uri": "https://localhost:8080/"
        },
        "id": "bx15vzkoiH9n",
        "outputId": "ed4c4379-9720-4c15-b161-630b88f3d989"
      },
      "execution_count": 1,
      "outputs": [
        {
          "output_type": "stream",
          "name": "stdout",
          "text": [
            "Using Colab cache for faster access to the 'fer2013' dataset.\n",
            "Path to dataset files: /kaggle/input/fer2013\n"
          ]
        }
      ]
    },
    {
      "cell_type": "code",
      "source": [
        "import torch\n",
        "from torchvision import transforms , datasets\n",
        "from torch.utils.data import DataLoader"
      ],
      "metadata": {
        "id": "JZ2fTTNdie0_"
      },
      "execution_count": 2,
      "outputs": []
    },
    {
      "cell_type": "code",
      "source": [
        "import torch.nn as nn\n",
        "import torch.optim as optim\n",
        "from torchvision import models\n",
        "import matplotlib.pyplot as plt"
      ],
      "metadata": {
        "id": "kPoWM8xCimfg"
      },
      "execution_count": 3,
      "outputs": []
    },
    {
      "cell_type": "code",
      "source": [
        "transform = transforms.Compose([\n",
        "    transforms.Resize((224,224)),\n",
        "    transforms.Grayscale(num_output_channels=3),\n",
        "    transforms.RandomHorizontalFlip(),\n",
        "    transforms.RandomRotation(10),\n",
        "    transforms.ToTensor(),\n",
        "    transforms.Normalize([0.5,0.5,0.5], [0.5,0.5,0.5])  # normalize\n",
        "])\n"
      ],
      "metadata": {
        "id": "DLB46TCdisKm"
      },
      "execution_count": 4,
      "outputs": []
    },
    {
      "cell_type": "code",
      "source": [
        "train_path = \"/kaggle/input/fer2013/train\"\n",
        "test_path = \"/kaggle/input/fer2013/test\""
      ],
      "metadata": {
        "id": "orzWyX6nitjr"
      },
      "execution_count": 5,
      "outputs": []
    },
    {
      "cell_type": "code",
      "source": [
        "train_dataset = datasets.ImageFolder(train_path, transform=transform)\n",
        "test_dataset = datasets.ImageFolder(test_path , transform=transform)"
      ],
      "metadata": {
        "id": "r30CzSl5i5YK"
      },
      "execution_count": 6,
      "outputs": []
    },
    {
      "cell_type": "code",
      "source": [
        "train_loader = DataLoader(train_dataset , batch_size=32 , shuffle=True)\n",
        "test_loader = DataLoader(test_dataset , batch_size=32 , shuffle=False)"
      ],
      "metadata": {
        "id": "Rgb-fK-Ri-pf"
      },
      "execution_count": 7,
      "outputs": []
    },
    {
      "cell_type": "code",
      "source": [
        "train_dataset.class_to_idx"
      ],
      "metadata": {
        "colab": {
          "base_uri": "https://localhost:8080/"
        },
        "id": "SKzXAy0Di_7W",
        "outputId": "29443993-001d-4ddc-da2b-c184dd89f0ba"
      },
      "execution_count": 8,
      "outputs": [
        {
          "output_type": "execute_result",
          "data": {
            "text/plain": [
              "{'angry': 0,\n",
              " 'disgust': 1,\n",
              " 'fear': 2,\n",
              " 'happy': 3,\n",
              " 'neutral': 4,\n",
              " 'sad': 5,\n",
              " 'surprise': 6}"
            ]
          },
          "metadata": {},
          "execution_count": 8
        }
      ]
    },
    {
      "cell_type": "code",
      "source": [
        "train_dataset.classes"
      ],
      "metadata": {
        "colab": {
          "base_uri": "https://localhost:8080/"
        },
        "id": "A7snroaPjC3u",
        "outputId": "29f9086b-e771-4fbc-96f1-144ab3504c17"
      },
      "execution_count": 9,
      "outputs": [
        {
          "output_type": "execute_result",
          "data": {
            "text/plain": [
              "['angry', 'disgust', 'fear', 'happy', 'neutral', 'sad', 'surprise']"
            ]
          },
          "metadata": {},
          "execution_count": 9
        }
      ]
    },
    {
      "cell_type": "code",
      "source": [
        "import matplotlib.pyplot as plt\n",
        "\n",
        "images , labels = next(iter(train_loader))\n",
        "\n",
        "# fig , axes = plt.subplot()\n",
        "\n",
        "for i in range(6):\n",
        "    img = images[i].permute(1,2,0).numpy()\n",
        "    plt.subplot(1,6,i+1)\n",
        "    plt.imshow(img , cmap=\"gray\")\n",
        "    plt.title(train_dataset.classes[labels[i]])\n",
        "    plt.axis(False)\n",
        "plt.show()"
      ],
      "metadata": {
        "colab": {
          "base_uri": "https://localhost:8080/",
          "height": 254
        },
        "id": "piNs-4fxjFq1",
        "outputId": "1c312a6f-8936-48ad-a95b-a83cb2aae723"
      },
      "execution_count": 10,
      "outputs": [
        {
          "output_type": "stream",
          "name": "stderr",
          "text": [
            "WARNING:matplotlib.image:Clipping input data to the valid range for imshow with RGB data ([0..1] for floats or [0..255] for integers). Got range [-1.0..0.99215686].\n",
            "WARNING:matplotlib.image:Clipping input data to the valid range for imshow with RGB data ([0..1] for floats or [0..255] for integers). Got range [-1.0..1.0].\n",
            "WARNING:matplotlib.image:Clipping input data to the valid range for imshow with RGB data ([0..1] for floats or [0..255] for integers). Got range [-1.0..0.9843137].\n",
            "WARNING:matplotlib.image:Clipping input data to the valid range for imshow with RGB data ([0..1] for floats or [0..255] for integers). Got range [-1.0..0.9764706].\n",
            "WARNING:matplotlib.image:Clipping input data to the valid range for imshow with RGB data ([0..1] for floats or [0..255] for integers). Got range [-1.0..1.0].\n",
            "WARNING:matplotlib.image:Clipping input data to the valid range for imshow with RGB data ([0..1] for floats or [0..255] for integers). Got range [-1.0..0.94509804].\n"
          ]
        },
        {
          "output_type": "display_data",
          "data": {
            "text/plain": [
              "<Figure size 640x480 with 6 Axes>"
            ],
            "image/png": "[encoded data removed]"
          },
          "metadata": {}
        }
      ]
    },
    {
      "cell_type": "code",
      "source": [
        "class EmotionCNN(nn.Module):\n",
        "    def __init__(self, num_classes=7):\n",
        "        super(EmotionCNN, self).__init__()\n",
        "        self.features = nn.Sequential(\n",
        "            nn.Conv2d(3, 32, kernel_size=3, padding=1),\n",
        "            nn.ReLU(),\n",
        "            nn.MaxPool2d(2, 2),\n",
        "\n",
        "            nn.Conv2d(32, 64, kernel_size=3, padding=1),\n",
        "            nn.ReLU(),\n",
        "            nn.MaxPool2d(2, 2),\n",
        "\n",
        "            nn.Conv2d(64, 128, kernel_size=3, padding=1),\n",
        "            nn.ReLU(),\n",
        "            nn.MaxPool2d(2, 2),\n",
        "\n",
        "            nn.Conv2d(128, 256, kernel_size=3, padding=1),\n",
        "            nn.ReLU(),\n",
        "            nn.MaxPool2d(2, 2),\n",
        "\n",
        "        )\n",
        "        self.classifier = nn.Sequential(\n",
        "            nn.Linear(256 * 14 * 14, 512),\n",
        "            nn.ReLU(),\n",
        "            nn.Dropout(0.5),\n",
        "            nn.Linear(512, num_classes)\n",
        "        )\n",
        "\n",
        "    def forward(self, x):\n",
        "        # print(x.shape)\n",
        "        x = self.features(x)\n",
        "        # print(x.shape)\n",
        "        x = x.view(x.size(0), -1)\n",
        "        # print(x.shape)\n",
        "        x = self.classifier(x)\n",
        "        return x\n"
      ],
      "metadata": {
        "id": "eDG9gqfFjKJ8"
      },
      "execution_count": 11,
      "outputs": []
    },
    {
      "cell_type": "code",
      "source": [
        "device = torch.device(\"cuda\" if torch.cuda.is_available() else \"cpu\")\n",
        "model = EmotionCNN(num_classes=7).to(device)\n",
        "\n",
        "criterion = nn.CrossEntropyLoss()\n",
        "optimizer = optim.Adam(model.parameters(), lr=0.001)\n"
      ],
      "metadata": {
        "id": "DqrItwMWjQP9"
      },
      "execution_count": 12,
      "outputs": []
    },
    {
      "cell_type": "code",
      "source": [
        "def train_model(model, train_loader, test_loader, criterion, optimizer, epochs=10):\n",
        "    for epoch in range(epochs):\n",
        "        # -----------------\n",
        "        # Training Phase\n",
        "        # -----------------\n",
        "        model.train()\n",
        "        running_loss, correct, total = 0.0, 0, 0\n",
        "\n",
        "        for images, labels in train_loader:\n",
        "            images, labels = images.to(device), labels.to(device)\n",
        "\n",
        "            optimizer.zero_grad()\n",
        "            outputs = model(images)\n",
        "            loss = criterion(outputs, labels)\n",
        "            loss.backward()\n",
        "            optimizer.step()\n",
        "\n",
        "            running_loss += loss.item()\n",
        "            _, predicted = outputs.max(1)\n",
        "            total += labels.size(0)\n",
        "            correct += predicted.eq(labels).sum().item()\n",
        "\n",
        "        train_loss = running_loss / len(train_loader)\n",
        "        train_acc = 100 * correct / total\n",
        "\n",
        "        # -----------------\n",
        "        # Evaluation Phase\n",
        "        # -----------------\n",
        "        model.eval()\n",
        "        test_loss, correct, total = 0.0, 0, 0\n",
        "\n",
        "        with torch.no_grad():\n",
        "            for images, labels in test_loader:\n",
        "                images, labels = images.to(device), labels.to(device)\n",
        "                outputs = model(images)\n",
        "                loss = criterion(outputs, labels)\n",
        "\n",
        "                test_loss += loss.item()\n",
        "                _, predicted = outputs.max(1)\n",
        "                total += labels.size(0)\n",
        "                correct += predicted.eq(labels).sum().item()\n",
        "\n",
        "        test_loss /= len(test_loader)\n",
        "        test_acc = 100 * correct / total\n",
        "\n",
        "        print(f\"Epoch {epoch+1}/{epochs} \"\n",
        "              f\"| Train Loss: {train_loss:.4f}, Train Acc: {train_acc:.2f}% \"\n",
        "              f\"| Test Loss: {test_loss:.4f}, Test Acc: {test_acc:.2f}%\")\n"
      ],
      "metadata": {
        "id": "w1_c7Q0wjT0R"
      },
      "execution_count": 13,
      "outputs": []
    },
    {
      "cell_type": "code",
      "source": [
        "train_model(model, train_loader,test_loader , criterion, optimizer, epochs=10)\n"
      ],
      "metadata": {
        "colab": {
          "base_uri": "https://localhost:8080/"
        },
        "id": "QqqBy5_hjXl4",
        "outputId": "48da34f4-05c9-431b-f436-2395a8a5d2d4"
      },
      "execution_count": 13,
      "outputs": [
        {
          "output_type": "stream",
          "name": "stdout",
          "text": [
            "Epoch 1/10 | Train Loss: 1.6963, Train Acc: 31.46% | Test Loss: 1.5142, Test Acc: 41.84%\n",
            "Epoch 2/10 | Train Loss: 1.4583, Train Acc: 43.47% | Test Loss: 1.3459, Test Acc: 47.62%\n",
            "Epoch 3/10 | Train Loss: 1.3447, Train Acc: 48.16% | Test Loss: 1.2864, Test Acc: 50.21%\n",
            "Epoch 4/10 | Train Loss: 1.2791, Train Acc: 50.92% | Test Loss: 1.2318, Test Acc: 52.22%\n",
            "Epoch 5/10 | Train Loss: 1.2303, Train Acc: 52.98% | Test Loss: 1.2154, Test Acc: 53.32%\n",
            "Epoch 6/10 | Train Loss: 1.1894, Train Acc: 54.43% | Test Loss: 1.1843, Test Acc: 54.78%\n",
            "Epoch 7/10 | Train Loss: 1.1638, Train Acc: 55.83% | Test Loss: 1.2048, Test Acc: 54.46%\n",
            "Epoch 8/10 | Train Loss: 1.1336, Train Acc: 56.88% | Test Loss: 1.1757, Test Acc: 54.26%\n",
            "Epoch 9/10 | Train Loss: 1.1032, Train Acc: 57.68% | Test Loss: 1.1675, Test Acc: 55.06%\n",
            "Epoch 10/10 | Train Loss: 1.0864, Train Acc: 58.86% | Test Loss: 1.1706, Test Acc: 55.18%\n"
          ]
        }
      ]
    },
    {
      "cell_type": "code",
      "source": [
        "from pathlib import Path\n",
        "\n",
        "model_save_path = \"/content/models\"\n",
        "torch.save(model.state_dict(), Path(model_save_path,\"BaselineCNN.pth\"))"
      ],
      "metadata": {
        "id": "B-3PdUtrjZiM"
      },
      "execution_count": 15,
      "outputs": []
    },
    {
      "cell_type": "code",
      "source": [
        "import torchvision.models as models\n",
        "import torch.nn as nn\n",
        "\n",
        "device = torch.device(\"cuda\" if torch.cuda.is_available() else \"cpu\")\n",
        "\n",
        "# Load pretrained ResNet\n",
        "ResNet18_model = models.resnet18(pretrained=True)\n",
        "\n",
        "# Modify input layer (for 1-channel grayscale → 3-channel workaround)\n",
        "ResNet18_model.conv1 = nn.Conv2d(3, 64, kernel_size=7, stride=2, padding=3, bias=False)\n",
        "\n",
        "# Replace final layer\n",
        "num_features = ResNet18_model.fc.in_features\n",
        "ResNet18_model.fc = nn.Linear(num_features, 7)  # 7 emotions\n",
        "\n",
        "# Freeze earlier layers (transfer learning)\n",
        "for param in ResNet18_model.parameters():\n",
        "    param.requires_grad = False\n",
        "for param in ResNet18_model.fc.parameters():\n",
        "    param.requires_grad = True\n",
        "\n",
        "ResNet18_model=ResNet18_model.to(device)"
      ],
      "metadata": {
        "colab": {
          "base_uri": "https://localhost:8080/"
        },
        "id": "VCiz7qPck_i5",
        "outputId": "38110f63-85aa-42fe-c767-f76df7f4e70f"
      },
      "execution_count": 16,
      "outputs": [
        {
          "output_type": "stream",
          "name": "stderr",
          "text": [
            "/usr/local/lib/python3.12/dist-packages/torchvision/models/_utils.py:208: UserWarning: The parameter 'pretrained' is deprecated since 0.13 and may be removed in the future, please use 'weights' instead.\n",
            "  warnings.warn(\n",
            "/usr/local/lib/python3.12/dist-packages/torchvision/models/_utils.py:223: UserWarning: Arguments other than a weight enum or `None` for 'weights' are deprecated since 0.13 and may be removed in the future. The current behavior is equivalent to passing `weights=ResNet18_Weights.IMAGENET1K_V1`. You can also use `weights=ResNet18_Weights.DEFAULT` to get the most up-to-date weights.\n",
            "  warnings.warn(msg)\n"
          ]
        },
        {
          "output_type": "stream",
          "name": "stdout",
          "text": [
            "Downloading: \"https://download.pytorch.org/models/resnet18-f37072fd.pth\" to /root/.cache/torch/hub/checkpoints/resnet18-f37072fd.pth\n"
          ]
        },
        {
          "output_type": "stream",
          "name": "stderr",
          "text": [
            "100%|██████████| 44.7M/44.7M [00:00<00:00, 174MB/s]\n"
          ]
        }
      ]
    },
    {
      "cell_type": "code",
      "source": [
        "optimizer = torch.optim.Adam(ResNet18_model.fc.parameters(), lr=1e-4, weight_decay=1e-5)"
      ],
      "metadata": {
        "id": "VXcZFqYalMRL"
      },
      "execution_count": 17,
      "outputs": []
    },
    {
      "cell_type": "code",
      "source": [
        "from sklearn.utils.class_weight import compute_class_weight\n",
        "import numpy as np\n",
        "\n",
        "# Extract all labels from your dataset\n",
        "train_labels = [label for _, label in train_dataset]  # if train_dataset is a torchvision dataset\n",
        "\n",
        "# Compute weights\n",
        "class_weights = compute_class_weight(\n",
        "    class_weight='balanced',\n",
        "    classes=np.unique(train_labels),\n",
        "    y=train_labels\n",
        ")\n",
        "\n",
        "# Convert to tensor for PyTorch\n",
        "class_weights = torch.tensor(class_weights, dtype=torch.float).to(device)\n",
        "\n",
        "# Use in loss\n",
        "criterion = nn.CrossEntropyLoss(weight=class_weights)\n"
      ],
      "metadata": {
        "id": "xYFty1SDlPCX"
      },
      "execution_count": 18,
      "outputs": []
    },
    {
      "cell_type": "code",
      "source": [
        "print(\"Model device:\", next(ResNet18_model.parameters()).device)\n",
        "print(\"Weights device:\", class_weights.device)"
      ],
      "metadata": {
        "colab": {
          "base_uri": "https://localhost:8080/"
        },
        "id": "9fUhDe5gtF0T",
        "outputId": "5b356c09-8ac6-4742-9169-f8a8eb28ef0a"
      },
      "execution_count": 19,
      "outputs": [
        {
          "output_type": "stream",
          "name": "stdout",
          "text": [
            "Model device: cuda:0\n",
            "Weights device: cuda:0\n"
          ]
        }
      ]
    },
    {
      "cell_type": "code",
      "source": [
        "train_model(ResNet18_model, train_loader,test_loader, criterion, optimizer, epochs=10)"
      ],
      "metadata": {
        "colab": {
          "base_uri": "https://localhost:8080/"
        },
        "id": "bccYHjfClTSI",
        "outputId": "4825e39a-e1b8-404c-87fb-8f5b3a3b492b"
      },
      "execution_count": 20,
      "outputs": [
        {
          "output_type": "stream",
          "name": "stdout",
          "text": [
            "Epoch 1/10 | Train Loss: 1.9293, Train Acc: 21.45% | Test Loss: 1.8391, Test Acc: 26.29%\n",
            "Epoch 2/10 | Train Loss: 1.8470, Train Acc: 27.74% | Test Loss: 1.7724, Test Acc: 30.38%\n",
            "Epoch 3/10 | Train Loss: 1.8082, Train Acc: 30.11% | Test Loss: 1.7715, Test Acc: 31.16%\n",
            "Epoch 4/10 | Train Loss: 1.7858, Train Acc: 31.17% | Test Loss: 1.7442, Test Acc: 32.95%\n",
            "Epoch 5/10 | Train Loss: 1.7726, Train Acc: 32.23% | Test Loss: 1.7462, Test Acc: 32.43%\n",
            "Epoch 6/10 | Train Loss: 1.7560, Train Acc: 32.48% | Test Loss: 1.7707, Test Acc: 30.73%\n",
            "Epoch 7/10 | Train Loss: 1.7529, Train Acc: 32.78% | Test Loss: 1.7733, Test Acc: 30.04%\n",
            "Epoch 8/10 | Train Loss: 1.7410, Train Acc: 33.29% | Test Loss: 1.7257, Test Acc: 33.24%\n",
            "Epoch 9/10 | Train Loss: 1.7352, Train Acc: 33.54% | Test Loss: 1.7355, Test Acc: 32.60%\n",
            "Epoch 10/10 | Train Loss: 1.7287, Train Acc: 33.56% | Test Loss: 1.7095, Test Acc: 33.73%\n"
          ]
        }
      ]
    },
    {
      "cell_type": "code",
      "source": [
        "from pathlib import Path\n",
        "model_save_path = \"/content/models\"\n",
        "torch.save(ResNet18_model.state_dict(), Path(model_save_path,\"ResNet18.pth\"))"
      ],
      "metadata": {
        "id": "_g0EymgQlYRe"
      },
      "execution_count": 21,
      "outputs": []
    },
    {
      "cell_type": "code",
      "source": [
        "ResNet50_model = models.resnet50(pretrained=True)\n",
        "\n",
        "# Freeze early layers\n",
        "for param in ResNet50_model.parameters():\n",
        "    param.requires_grad = False\n",
        "\n",
        "# Replace last layer\n",
        "num_features = ResNet50_model.fc.in_features\n",
        "ResNet50_model.fc = nn.Linear(num_features, 7)  # 7 emotion classes\n",
        "\n",
        "\n",
        "device = torch.device(\"cuda\" if torch.cuda.is_available() else \"cpu\")\n",
        "\n",
        "ResNet50_model = ResNet50_model.to(device)\n",
        "\n",
        "# --------------------------\n",
        "# Compute Class Weights\n",
        "# --------------------------\n",
        "train_labels = [label for _, label in train_dataset]  # get all labels from dataset\n",
        "class_weights = compute_class_weight(\n",
        "    class_weight=\"balanced\",\n",
        "    classes=np.unique(train_labels),\n",
        "    y=train_labels\n",
        ")\n",
        "class_weights = torch.tensor(class_weights, dtype=torch.float).to(device)\n",
        "\n",
        "criterion = nn.CrossEntropyLoss(weight=class_weights)\n",
        "\n",
        "# --------------------------\n",
        "# Step 1: Freeze all except final layer\n",
        "# --------------------------\n",
        "for param in ResNet50_model.parameters():\n",
        "    param.requires_grad = False\n",
        "for param in ResNet50_model.fc.parameters():\n",
        "    param.requires_grad = True\n",
        "\n",
        "optimizer = optim.Adam(ResNet50_model.fc.parameters(), lr=1e-3)\n"
      ],
      "metadata": {
        "colab": {
          "base_uri": "https://localhost:8080/"
        },
        "id": "rM3juQxFuZes",
        "outputId": "172c5fd9-b4a2-48bf-92a9-e3bdd3fad702"
      },
      "execution_count": 22,
      "outputs": [
        {
          "output_type": "stream",
          "name": "stderr",
          "text": [
            "/usr/local/lib/python3.12/dist-packages/torchvision/models/_utils.py:208: UserWarning: The parameter 'pretrained' is deprecated since 0.13 and may be removed in the future, please use 'weights' instead.\n",
            "  warnings.warn(\n",
            "/usr/local/lib/python3.12/dist-packages/torchvision/models/_utils.py:223: UserWarning: Arguments other than a weight enum or `None` for 'weights' are deprecated since 0.13 and may be removed in the future. The current behavior is equivalent to passing `weights=ResNet50_Weights.IMAGENET1K_V1`. You can also use `weights=ResNet50_Weights.DEFAULT` to get the most up-to-date weights.\n",
            "  warnings.warn(msg)\n"
          ]
        },
        {
          "output_type": "stream",
          "name": "stdout",
          "text": [
            "Downloading: \"https://download.pytorch.org/models/resnet50-0676ba61.pth\" to /root/.cache/torch/hub/checkpoints/resnet50-0676ba61.pth\n"
          ]
        },
        {
          "output_type": "stream",
          "name": "stderr",
          "text": [
            "100%|██████████| 97.8M/97.8M [00:01<00:00, 78.7MB/s]\n"
          ]
        }
      ]
    },
    {
      "cell_type": "code",
      "source": [
        "train_model(ResNet50_model, train_loader,test_loader, criterion, optimizer, epochs=10)\n"
      ],
      "metadata": {
        "colab": {
          "base_uri": "https://localhost:8080/"
        },
        "id": "uTs7bxhR5zgT",
        "outputId": "ef805fbc-73d9-4131-d1ae-ddb668e4077b"
      },
      "execution_count": 23,
      "outputs": [
        {
          "output_type": "stream",
          "name": "stdout",
          "text": [
            "Epoch 1/10 | Train Loss: 1.7936, Train Acc: 31.03% | Test Loss: 1.5917, Test Acc: 39.63%\n",
            "Epoch 2/10 | Train Loss: 1.7053, Train Acc: 35.58% | Test Loss: 1.7376, Test Acc: 33.52%\n",
            "Epoch 3/10 | Train Loss: 1.6820, Train Acc: 36.54% | Test Loss: 1.6885, Test Acc: 34.58%\n",
            "Epoch 4/10 | Train Loss: 1.6600, Train Acc: 37.50% | Test Loss: 1.6048, Test Acc: 38.16%\n",
            "Epoch 5/10 | Train Loss: 1.6454, Train Acc: 37.82% | Test Loss: 1.6718, Test Acc: 35.79%\n",
            "Epoch 6/10 | Train Loss: 1.6503, Train Acc: 37.78% | Test Loss: 1.6265, Test Acc: 37.45%\n",
            "Epoch 7/10 | Train Loss: 1.6520, Train Acc: 38.06% | Test Loss: 1.6443, Test Acc: 37.74%\n",
            "Epoch 8/10 | Train Loss: 1.6390, Train Acc: 38.27% | Test Loss: 1.5063, Test Acc: 41.24%\n",
            "Epoch 9/10 | Train Loss: 1.6260, Train Acc: 38.90% | Test Loss: 1.5808, Test Acc: 38.84%\n",
            "Epoch 10/10 | Train Loss: 1.6164, Train Acc: 39.43% | Test Loss: 1.6647, Test Acc: 36.25%\n"
          ]
        }
      ]
    },
    {
      "cell_type": "code",
      "source": [
        "# Step 3: Unfreeze Last Block (layer4)\n",
        "# --------------------------\n",
        "for name, param in ResNet50_model.named_parameters():\n",
        "    if \"layer4\" in name:\n",
        "        param.requires_grad = True\n",
        "\n",
        "optimizer = optim.Adam([\n",
        "    {\"params\": ResNet50_model.fc.parameters(), \"lr\": 1e-3},\n",
        "    {\"params\": ResNet50_model.layer4.parameters(), \"lr\": 1e-5}\n",
        "])\n",
        "\n",
        "print(\"🔹 Fine-tuning layer4...\")\n",
        "train_model(ResNet50_model, train_loader, test_loader, criterion, optimizer, epochs=10)\n"
      ],
      "metadata": {
        "colab": {
          "base_uri": "https://localhost:8080/"
        },
        "id": "39YUcZVs55Hs",
        "outputId": "b4d1da5b-2282-4f9c-a657-307b7e7b083f"
      },
      "execution_count": 24,
      "outputs": [
        {
          "output_type": "stream",
          "name": "stdout",
          "text": [
            "🔹 Fine-tuning layer4...\n",
            "Epoch 1/10 | Train Loss: 1.5680, Train Acc: 42.08% | Test Loss: 1.4787, Test Acc: 44.00%\n",
            "Epoch 2/10 | Train Loss: 1.3964, Train Acc: 47.59% | Test Loss: 1.3672, Test Acc: 48.54%\n",
            "Epoch 3/10 | Train Loss: 1.2999, Train Acc: 50.95% | Test Loss: 1.2955, Test Acc: 53.22%\n",
            "Epoch 4/10 | Train Loss: 1.2275, Train Acc: 53.61% | Test Loss: 1.3093, Test Acc: 51.41%\n",
            "Epoch 5/10 | Train Loss: 1.1665, Train Acc: 55.28% | Test Loss: 1.3780, Test Acc: 49.94%\n",
            "Epoch 6/10 | Train Loss: 1.1089, Train Acc: 56.85% | Test Loss: 1.1731, Test Acc: 56.14%\n",
            "Epoch 7/10 | Train Loss: 1.0522, Train Acc: 58.69% | Test Loss: 1.2049, Test Acc: 57.11%\n",
            "Epoch 8/10 | Train Loss: 1.0169, Train Acc: 59.91% | Test Loss: 1.1729, Test Acc: 57.82%\n",
            "Epoch 9/10 | Train Loss: 0.9837, Train Acc: 60.92% | Test Loss: 1.2577, Test Acc: 54.85%\n",
            "Epoch 10/10 | Train Loss: 0.9556, Train Acc: 62.34% | Test Loss: 1.3470, Test Acc: 52.70%\n"
          ]
        }
      ]
    },
    {
      "cell_type": "code",
      "source": [
        "# --------------------------\n",
        "# Step 4 (Optional): Unfreeze layer3 as well\n",
        "# --------------------------\n",
        "for name, param in ResNet50_model.named_parameters():\n",
        "    if \"layer3\" in name:\n",
        "        param.requires_grad = True\n",
        "\n",
        "optimizer = optim.Adam([\n",
        "    {\"params\": ResNet50_model.fc.parameters(), \"lr\": 1e-3},\n",
        "    {\"params\": ResNet50_model.layer4.parameters(), \"lr\": 1e-5},\n",
        "    {\"params\": ResNet50_model.layer3.parameters(), \"lr\": 1e-5}\n",
        "])\n",
        "\n",
        "print(\"🔹 Fine-tuning layer3 + layer4...\")\n",
        "train_model(ResNet50_model, train_loader, test_loader, criterion, optimizer, epochs=10)"
      ],
      "metadata": {
        "colab": {
          "base_uri": "https://localhost:8080/"
        },
        "id": "SRvLz8Zr58cc",
        "outputId": "99ffcaed-4450-4125-e0d1-50cd911e1785"
      },
      "execution_count": 25,
      "outputs": [
        {
          "output_type": "stream",
          "name": "stdout",
          "text": [
            "🔹 Fine-tuning layer3 + layer4...\n",
            "Epoch 1/10 | Train Loss: 0.9229, Train Acc: 63.60% | Test Loss: 1.1319, Test Acc: 60.02%\n",
            "Epoch 2/10 | Train Loss: 0.8623, Train Acc: 65.99% | Test Loss: 1.1850, Test Acc: 59.72%\n",
            "Epoch 3/10 | Train Loss: 0.8133, Train Acc: 68.19% | Test Loss: 1.1370, Test Acc: 60.80%\n",
            "Epoch 4/10 | Train Loss: 0.7647, Train Acc: 69.34% | Test Loss: 1.1131, Test Acc: 61.62%\n",
            "Epoch 5/10 | Train Loss: 0.7214, Train Acc: 71.10% | Test Loss: 1.1489, Test Acc: 61.67%\n",
            "Epoch 6/10 | Train Loss: 0.6827, Train Acc: 73.01% | Test Loss: 1.1121, Test Acc: 62.90%\n",
            "Epoch 7/10 | Train Loss: 0.6321, Train Acc: 74.80% | Test Loss: 1.1466, Test Acc: 63.28%\n",
            "Epoch 8/10 | Train Loss: 0.6004, Train Acc: 76.12% | Test Loss: 1.2106, Test Acc: 62.29%\n",
            "Epoch 9/10 | Train Loss: 0.5563, Train Acc: 77.73% | Test Loss: 1.1886, Test Acc: 64.32%\n",
            "Epoch 10/10 | Train Loss: 0.5181, Train Acc: 79.41% | Test Loss: 1.2243, Test Acc: 62.96%\n"
          ]
        }
      ]
    },
    {
      "cell_type": "code",
      "source": [
        "train_model(ResNet50_model, train_loader, test_loader, criterion, optimizer, epochs=10)"
      ],
      "metadata": {
        "colab": {
          "base_uri": "https://localhost:8080/"
        },
        "id": "aTPkEmrqYTnU",
        "outputId": "d798b9f0-f780-4060-96c5-2f2b5dccc770"
      },
      "execution_count": 27,
      "outputs": [
        {
          "output_type": "stream",
          "name": "stdout",
          "text": [
            "Epoch 1/10 | Train Loss: 0.4834, Train Acc: 80.66% | Test Loss: 1.2321, Test Acc: 64.54%\n",
            "Epoch 2/10 | Train Loss: 0.4328, Train Acc: 82.74% | Test Loss: 1.2859, Test Acc: 64.03%\n",
            "Epoch 3/10 | Train Loss: 0.4239, Train Acc: 83.13% | Test Loss: 1.3856, Test Acc: 63.42%\n",
            "Epoch 4/10 | Train Loss: 0.3853, Train Acc: 84.80% | Test Loss: 1.3878, Test Acc: 63.82%\n",
            "Epoch 5/10 | Train Loss: 0.3467, Train Acc: 86.02% | Test Loss: 1.5013, Test Acc: 62.57%\n",
            "Epoch 6/10 | Train Loss: 0.3312, Train Acc: 87.09% | Test Loss: 1.4633, Test Acc: 64.50%\n",
            "Epoch 7/10 | Train Loss: 0.3099, Train Acc: 87.89% | Test Loss: 1.4772, Test Acc: 64.91%\n",
            "Epoch 8/10 | Train Loss: 0.2699, Train Acc: 89.34% | Test Loss: 1.5222, Test Acc: 65.07%\n",
            "Epoch 9/10 | Train Loss: 0.2422, Train Acc: 90.14% | Test Loss: 1.5708, Test Acc: 64.61%\n",
            "Epoch 10/10 | Train Loss: 0.2571, Train Acc: 89.82% | Test Loss: 1.5969, Test Acc: 65.60%\n"
          ]
        }
      ]
    },
    {
      "cell_type": "code",
      "source": [
        "for name, param in ResNet50_model.named_parameters():\n",
        "    if \"layer4\" in name:\n",
        "        param.requires_grad = True\n",
        "\n",
        "optimizer = optim.Adam([\n",
        "    {\"params\": ResNet50_model.fc.parameters(), \"lr\": 1e-3},\n",
        "    {\"params\": ResNet50_model.layer4.parameters(), \"lr\": 1e-5}\n",
        "])\n",
        "\n",
        "print(\"🔹 Fine-tuning layer4...\")\n",
        "train_model(ResNet50_model, train_loader, test_loader, criterion, optimizer, epochs=5)"
      ],
      "metadata": {
        "id": "EJOoqFi8dkry"
      },
      "execution_count": null,
      "outputs": []
    },
    {
      "cell_type": "code",
      "source": [],
      "metadata": {
        "id": "xqunCIYnjkN6"
      },
      "execution_count": null,
      "outputs": []
    },
    {
      "cell_type": "code",
      "source": [
        "from pathlib import Path\n",
        "model_save_path = \"/content/models\"\n",
        "torch.save(ResNet50_model.state_dict(), Path(model_save_path,\"ResNet50.pth\"))"
      ],
      "metadata": {
        "id": "HhfDhN7J5_Qp"
      },
      "execution_count": 28,
      "outputs": []
    },
    {
      "cell_type": "code",
      "source": [],
      "metadata": {
        "id": "GMr58GzXHKFh"
      },
      "execution_count": null,
      "outputs": []
    }
  ]
}